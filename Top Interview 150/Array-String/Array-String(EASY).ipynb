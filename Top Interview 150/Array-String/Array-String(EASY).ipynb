{
 "cells": [
  {
   "cell_type": "markdown",
   "id": "901fcd41-c24e-4517-a8a4-20a33b49960c",
   "metadata": {},
   "source": [
    "# Array / String"
   ]
  },
  {
   "cell_type": "markdown",
   "id": "23fe88a7-cef7-472f-9d69-5778349476bb",
   "metadata": {},
   "source": [
    "# Easy"
   ]
  },
  {
   "cell_type": "code",
   "execution_count": 2,
   "id": "68877f0f-b8f1-4d75-b751-6763d6fd6b87",
   "metadata": {},
   "outputs": [],
   "source": [
    "# Q1. Merge Sorted Array\n",
    "\n",
    "def mergeSorted(self, nums1, m, nums2, n): \n",
    "        p1 = m - 1  \n",
    "        p2 = n - 1  \n",
    "        p = m + n - 1 \n",
    "\n",
    "        while p1 >= 0 and p2 >= 0:\n",
    "            if nums1[p1] > nums2[p2]:\n",
    "                nums1[p] = nums1[p1]\n",
    "                p1 -= 1\n",
    "            else:\n",
    "                nums1[p] = nums2[p2]\n",
    "                p2 -= 1\n",
    "            p -= 1\n",
    "\n",
    "        nums1[:p2 + 1] = nums2[:p2 + 1]\n"
   ]
  },
  {
   "cell_type": "code",
   "execution_count": 3,
   "id": "2d1bef00-09c6-4c29-aa00-98ade60fccb2",
   "metadata": {},
   "outputs": [],
   "source": [
    "# Q2. Remove Element\n",
    "\n",
    "def removeElement(self, nums, val):\n",
    "        \n",
    "        k=0\n",
    "        for i in range(len(nums)):\n",
    "            if nums[i] != val:\n",
    "                nums[k]=nums[i]\n",
    "                k=k+1\n",
    "        return k\n",
    "    "
   ]
  },
  {
   "cell_type": "code",
   "execution_count": 4,
   "id": "f8e4e5cb-1e47-49b1-884a-07f10bbdc726",
   "metadata": {},
   "outputs": [],
   "source": [
    "# Q3. Remove Duplicates from Sorted Array\n",
    "\n",
    "def removeDuplicates(self, nums):\n",
    "        \n",
    "        if len(nums) == 0:\n",
    "            return 0\n",
    "        k=1\n",
    "        for i in range(1 , len(nums)):\n",
    "            if nums[i] != nums[k-1]:\n",
    "                nums[k]=nums[i]\n",
    "                k=k+1\n",
    "        return k\n",
    "    "
   ]
  },
  {
   "cell_type": "code",
   "execution_count": null,
   "id": "ff1e046a-f008-416f-a3ff-411088a139f5",
   "metadata": {},
   "outputs": [],
   "source": [
    "# Q4. Majority Element\n",
    "\n",
    "def majorityElement(self, nums):\n",
    "\n",
    "        candidate = None\n",
    "        count = 0\n",
    "\n",
    "        for num in nums:\n",
    "            if count == 0:\n",
    "                candidate = num \n",
    "            count += 1 if num == candidate else -1\n",
    "\n",
    "        return candidate\n",
    "    "
   ]
  },
  {
   "cell_type": "code",
   "execution_count": null,
   "id": "3f9210ee-811d-402e-87ab-4ca48c344e1b",
   "metadata": {},
   "outputs": [],
   "source": [
    "# Q5.Best Time to Buy and Sell Stock \n",
    "\n",
    "def maxProfit(self, prices):\n",
    "        min_price = float('inf')  \n",
    "        max_profit = 0  \n",
    "\n",
    "        for price in prices:\n",
    "            if price < min_price:\n",
    "                min_price = price\n",
    "                \n",
    "            profit = price - min_price\n",
    "            \n",
    "            if profit > max_profit:\n",
    "                max_profit = profit\n",
    "        return max_profit\n",
    "    "
   ]
  },
  {
   "cell_type": "code",
   "execution_count": null,
   "id": "0cc62f52-fc2f-4d43-8df6-86c9969938ac",
   "metadata": {},
   "outputs": [],
   "source": [
    "# Q6. Roman to Integer\n",
    "\n",
    "def romanToInt(self, s):\n",
    "        roman_values = {\n",
    "        'I': 1, 'V': 5, 'X': 10, 'L': 50,\n",
    "        'C': 100, 'D': 500, 'M': 1000\n",
    "        }\n",
    "        total = 0  \n",
    "        prev_value = 0  \n",
    "        \n",
    "        for char in reversed(s):\n",
    "             current_value = roman_values[char]\n",
    "             if current_value < prev_value:\n",
    "                total -= current_value\n",
    "             else:\n",
    "                total += current_value\n",
    "\n",
    "             prev_value = current_value\n",
    "\n",
    "        return total\n",
    "        "
   ]
  },
  {
   "cell_type": "code",
   "execution_count": null,
   "id": "4a0c98ad-56f2-45c7-a985-2926550de349",
   "metadata": {},
   "outputs": [],
   "source": [
    "# Q7. Length of Last Word\n",
    "\n",
    "def lengthOfLastWord(self, s):\n",
    "        s = s.strip()\n",
    "        words = s.split()\n",
    "        return len(words[-1])\n",
    "    "
   ]
  },
  {
   "cell_type": "code",
   "execution_count": null,
   "id": "10d51bc3-511f-45b8-a87f-a606e1ce5b9c",
   "metadata": {},
   "outputs": [],
   "source": [
    "# Q8. Longest Common Prefix\n",
    "\n",
    "def longestCommonPrefix(self, strs):\n",
    "        if not strs:\n",
    "            return \"\"\n",
    "        prefix = strs[0]\n",
    "        \n",
    "        for string in strs[1:]:\n",
    "            while not string.startswith(prefix):\n",
    "                prefix = prefix[:-1] \n",
    "            \n",
    "            if not prefix:\n",
    "                return \"\"\n",
    "    \n",
    "        return prefix\n",
    "        "
   ]
  },
  {
   "cell_type": "code",
   "execution_count": null,
   "id": "e2a4a9de-2ce8-4b2e-9f36-9eadbd59df57",
   "metadata": {},
   "outputs": [],
   "source": [
    "# Q9. Find the Index of the First Occurrence in a String\n",
    "\n",
    "def strStr(self, haystack, needle):\n",
    "        return haystack.find(needle)\n",
    "        "
   ]
  }
 ],
 "metadata": {
  "kernelspec": {
   "display_name": "Python 3 (ipykernel)",
   "language": "python",
   "name": "python3"
  },
  "language_info": {
   "codemirror_mode": {
    "name": "ipython",
    "version": 3
   },
   "file_extension": ".py",
   "mimetype": "text/x-python",
   "name": "python",
   "nbconvert_exporter": "python",
   "pygments_lexer": "ipython3",
   "version": "3.12.3"
  }
 },
 "nbformat": 4,
 "nbformat_minor": 5
}
